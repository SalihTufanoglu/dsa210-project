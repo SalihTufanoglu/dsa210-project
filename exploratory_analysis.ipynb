{
 "cells": [
  {
   "cell_type": "code",
   "execution_count": null,
   "id": "b4adf4f7",
   "metadata": {},
   "outputs": [],
   "source": [
    "import pandas as pd\n",
    "import matplotlib.pyplot as plt\n",
    "import seaborn as sns\n",
    "from scipy.stats import ttest_ind\n",
    "\n",
    "# Load dataset\n",
    "df = pd.read_excel('data/screen_time_mood_data.xlsx')\n",
    "df.head()\n"
   ]
  },
  {
   "cell_type": "code",
   "execution_count": null,
   "id": "d8d5772a",
   "metadata": {},
   "outputs": [],
   "source": [
    "# Screen Time Distribution\n",
    "plt.figure(figsize=(8,5))\n",
    "plt.hist(df['Total_Screen_Minutes'], bins=20, edgecolor='black')\n",
    "plt.title('Distribution of Total Daily Screen Time')\n",
    "plt.xlabel('Screen Time (minutes)')\n",
    "plt.ylabel('Frequency')\n",
    "plt.savefig('charts/screen_time_distribution.png')\n",
    "plt.show()\n"
   ]
  },
  {
   "cell_type": "code",
   "execution_count": null,
   "id": "1e2c8f8c",
   "metadata": {},
   "outputs": [],
   "source": [
    "# Stress Score Distribution\n",
    "plt.figure(figsize=(8,5))\n",
    "plt.hist(df['Stress_Score'], bins=10, edgecolor='black')\n",
    "plt.title('Distribution of Stress Scores')\n",
    "plt.xlabel('Stress Score')\n",
    "plt.ylabel('Frequency')\n",
    "plt.savefig('charts/stress_distribution.png')\n",
    "plt.show()\n"
   ]
  },
  {
   "cell_type": "code",
   "execution_count": null,
   "id": "9fd6e704",
   "metadata": {},
   "outputs": [],
   "source": [
    "# Correlation Matrix\n",
    "corr = df[['Total_Screen_Minutes', 'Stress_Score', 'Mood_Score']].corr()\n",
    "plt.figure(figsize=(6,5))\n",
    "sns.heatmap(corr, annot=True, cmap='coolwarm', fmt=\".2f\")\n",
    "plt.title('Correlation Matrix')\n",
    "plt.savefig('charts/correlation_matrix.png')\n",
    "plt.show()\n",
    "corr\n"
   ]
  },
  {
   "cell_type": "code",
   "execution_count": null,
   "id": "bf33e963",
   "metadata": {},
   "outputs": [],
   "source": [
    "# Hypothesis Testing\n",
    "high_screen = df[df['Total_Screen_Minutes'] > 240]\n",
    "low_screen = df[df['Total_Screen_Minutes'] <= 240]\n",
    "\n",
    "# Stress Score T-test\n",
    "stress_tstat, stress_pval = ttest_ind(high_screen['Stress_Score'], low_screen['Stress_Score'], equal_var=False)\n",
    "\n",
    "# Mood Score T-test\n",
    "mood_tstat, mood_pval = ttest_ind(high_screen['Mood_Score'], low_screen['Mood_Score'], equal_var=False)\n",
    "\n",
    "print('Stress Score T-test: t =', round(stress_tstat, 3), ', p =', round(stress_pval, 4))\n",
    "print('Mood Score T-test: t =', round(mood_tstat, 3), ', p =', round(mood_pval, 4))\n"
   ]
  }
 ],
 "metadata": {},
 "nbformat": 4,
 "nbformat_minor": 5
}
